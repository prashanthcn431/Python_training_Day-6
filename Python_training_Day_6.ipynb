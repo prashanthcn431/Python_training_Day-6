{
  "nbformat": 4,
  "nbformat_minor": 0,
  "metadata": {
    "colab": {
      "provenance": []
    },
    "kernelspec": {
      "name": "python3",
      "display_name": "Python 3"
    },
    "language_info": {
      "name": "python"
    }
  },
  "cells": [
    {
      "cell_type": "markdown",
      "source": [
        "function\n"
      ],
      "metadata": {
        "id": "zVYAF5j9-Iaj"
      }
    },
    {
      "cell_type": "code",
      "execution_count": null,
      "metadata": {
        "id": "CZn92weA9snq"
      },
      "outputs": [],
      "source": [
        "def add():\n",
        "    print(5+7)"
      ]
    },
    {
      "cell_type": "code",
      "source": [
        "add()\n"
      ],
      "metadata": {
        "colab": {
          "base_uri": "https://localhost:8080/"
        },
        "id": "bBRXGqiMDzkG",
        "outputId": "93148ce1-6c80-4f94-d12d-3f0f8e589ebf"
      },
      "execution_count": null,
      "outputs": [
        {
          "output_type": "stream",
          "name": "stdout",
          "text": [
            "12\n"
          ]
        }
      ]
    },
    {
      "cell_type": "code",
      "source": [
        "def add1():\n",
        "    print(5+7)"
      ],
      "metadata": {
        "id": "6hODZ40JD9TZ"
      },
      "execution_count": null,
      "outputs": []
    },
    {
      "cell_type": "code",
      "source": [
        "add1()"
      ],
      "metadata": {
        "colab": {
          "base_uri": "https://localhost:8080/"
        },
        "id": "FeAJTAQtEVws",
        "outputId": "f7fbc3ad-8c51-4f7c-861d-96d5b0e13307"
      },
      "execution_count": null,
      "outputs": [
        {
          "output_type": "stream",
          "name": "stdout",
          "text": [
            "12\n"
          ]
        }
      ]
    },
    {
      "cell_type": "code",
      "source": [
        "def add(a,b):\n",
        "  return a+b"
      ],
      "metadata": {
        "id": "_2mtZ45DFPAY"
      },
      "execution_count": null,
      "outputs": []
    },
    {
      "cell_type": "code",
      "source": [
        "a=add(3,4)"
      ],
      "metadata": {
        "id": "tz4IirdPFVEH"
      },
      "execution_count": null,
      "outputs": []
    },
    {
      "cell_type": "code",
      "source": [
        "print(f\"our funtion is {a}\")"
      ],
      "metadata": {
        "colab": {
          "base_uri": "https://localhost:8080/"
        },
        "id": "EWPBrns_FdCn",
        "outputId": "d3204bc2-6b30-451d-f331-7a90dda27c35"
      },
      "execution_count": null,
      "outputs": [
        {
          "output_type": "stream",
          "name": "stdout",
          "text": [
            "our funtion is 7\n"
          ]
        }
      ]
    },
    {
      "cell_type": "code",
      "source": [
        "def add(a,b):\n",
        "  print (a+b)"
      ],
      "metadata": {
        "id": "-IptkETUFjgb"
      },
      "execution_count": null,
      "outputs": []
    },
    {
      "cell_type": "code",
      "source": [
        "add(5,6)"
      ],
      "metadata": {
        "colab": {
          "base_uri": "https://localhost:8080/"
        },
        "id": "ZQEO201aF-LY",
        "outputId": "0068ecbd-9612-428c-80a1-958ee444ecbb"
      },
      "execution_count": null,
      "outputs": [
        {
          "output_type": "stream",
          "name": "stdout",
          "text": [
            "11\n"
          ]
        }
      ]
    },
    {
      "cell_type": "code",
      "source": [
        "def sub(a,b):\n",
        "  return a-b"
      ],
      "metadata": {
        "id": "cUdilYOvF_0G"
      },
      "execution_count": null,
      "outputs": []
    },
    {
      "cell_type": "code",
      "source": [
        "sub(5,6)"
      ],
      "metadata": {
        "colab": {
          "base_uri": "https://localhost:8080/"
        },
        "id": "JINCybAmGMMU",
        "outputId": "2e2b181a-bc0f-4bfd-e2b8-72b5748e6a2d"
      },
      "execution_count": null,
      "outputs": [
        {
          "output_type": "execute_result",
          "data": {
            "text/plain": [
              "(5, 6)"
            ]
          },
          "metadata": {},
          "execution_count": 26
        }
      ]
    },
    {
      "cell_type": "code",
      "source": [
        "def sub(a,b):\n",
        "  print (a,b)\n",
        "  return a,b"
      ],
      "metadata": {
        "id": "IZfNCnaPGPWA"
      },
      "execution_count": null,
      "outputs": []
    },
    {
      "cell_type": "code",
      "source": [
        "sub(9,8)"
      ],
      "metadata": {
        "colab": {
          "base_uri": "https://localhost:8080/"
        },
        "id": "cXMAaUILG1LU",
        "outputId": "48db4490-f69a-4ee1-efb9-963fe50398fb"
      },
      "execution_count": null,
      "outputs": [
        {
          "output_type": "stream",
          "name": "stdout",
          "text": [
            "9 8\n"
          ]
        },
        {
          "output_type": "execute_result",
          "data": {
            "text/plain": [
              "(9, 8)"
            ]
          },
          "metadata": {},
          "execution_count": 29
        }
      ]
    },
    {
      "cell_type": "code",
      "source": [
        "def add1():\n",
        "  '''addition of two numbers'''\n",
        "  return 5+7"
      ],
      "metadata": {
        "id": "BPCSS_o6HOSj"
      },
      "execution_count": null,
      "outputs": []
    },
    {
      "cell_type": "code",
      "source": [
        "add1()"
      ],
      "metadata": {
        "colab": {
          "base_uri": "https://localhost:8080/"
        },
        "id": "24FCVhEeHre4",
        "outputId": "eff52768-3995-4581-ad13-0e14d095ff51"
      },
      "execution_count": null,
      "outputs": [
        {
          "output_type": "execute_result",
          "data": {
            "text/plain": [
              "12"
            ]
          },
          "metadata": {},
          "execution_count": 31
        }
      ]
    },
    {
      "cell_type": "code",
      "source": [
        "def add2(a,b):\n",
        "  '''addition of two numbers'''\n",
        "  return a+b"
      ],
      "metadata": {
        "id": "NqLn8ddHHtVg"
      },
      "execution_count": null,
      "outputs": []
    },
    {
      "cell_type": "code",
      "source": [
        "add2(3,4)"
      ],
      "metadata": {
        "colab": {
          "base_uri": "https://localhost:8080/"
        },
        "id": "TETWfNODIW7E",
        "outputId": "9ef8dffa-75f5-4e75-a22e-9637173f7c79"
      },
      "execution_count": null,
      "outputs": [
        {
          "output_type": "execute_result",
          "data": {
            "text/plain": [
              "7"
            ]
          },
          "metadata": {},
          "execution_count": 33
        }
      ]
    },
    {
      "cell_type": "code",
      "source": [
        "def cal(a,b):\n",
        "  \"\"\"addition,subtraction,multiplication,division\"\"\"\n",
        "  choice = input(\"please enter the choice..1)add,2)mult,3)sub,4)div\")\n",
        "  if choice == \"1\":\n",
        "    return a+b\n",
        "  elif choice == \"2\":\n",
        "    return a*b\n",
        "  elif choice == \"3\":\n",
        "    return a-b\n",
        "  elif choice == \"4\":\n",
        "   try:\n",
        "     return a/b\n",
        "   except ZeroDivisionError:\n",
        "     return \"cannot divide by zero\"\n",
        "  else:\n",
        "    return \"invalid choice\""
      ],
      "metadata": {
        "id": "_etmYFRdIc-N"
      },
      "execution_count": null,
      "outputs": []
    },
    {
      "cell_type": "code",
      "source": [
        "cal(9,0)"
      ],
      "metadata": {
        "colab": {
          "base_uri": "https://localhost:8080/",
          "height": 53
        },
        "id": "yXKvNhuwM0Vp",
        "outputId": "79de2f26-6832-441c-fd5c-3a20c65eb1c2"
      },
      "execution_count": null,
      "outputs": [
        {
          "name": "stdout",
          "output_type": "stream",
          "text": [
            "please enter the choice..1)add,2)mult,3)sub,4)div4\n"
          ]
        },
        {
          "output_type": "execute_result",
          "data": {
            "text/plain": [
              "'cannot divide by zero'"
            ],
            "application/vnd.google.colaboratory.intrinsic+json": {
              "type": "string"
            }
          },
          "metadata": {},
          "execution_count": 44
        }
      ]
    },
    {
      "cell_type": "code",
      "source": [
        "def mult_par(a,b,c,d,e,f):\n",
        "  return a,b,c,d,e,f"
      ],
      "metadata": {
        "id": "NyaYYZ_mM2YB"
      },
      "execution_count": null,
      "outputs": []
    },
    {
      "cell_type": "code",
      "source": [
        "mult_par(1,2,3,4,5,6)"
      ],
      "metadata": {
        "colab": {
          "base_uri": "https://localhost:8080/"
        },
        "id": "p7hw1b1nPVdc",
        "outputId": "8066a07e-0e45-465b-d1eb-d1b473f582ab"
      },
      "execution_count": null,
      "outputs": [
        {
          "output_type": "execute_result",
          "data": {
            "text/plain": [
              "(1, 2, 3, 4, 5, 6)"
            ]
          },
          "metadata": {},
          "execution_count": 47
        }
      ]
    },
    {
      "cell_type": "code",
      "source": [
        "def add(a,b):\n",
        "  return a+b"
      ],
      "metadata": {
        "id": "tB-k_4Q3Pgh7"
      },
      "execution_count": null,
      "outputs": []
    },
    {
      "cell_type": "code",
      "source": [
        "add(3)\n"
      ],
      "metadata": {
        "colab": {
          "base_uri": "https://localhost:8080/",
          "height": 141
        },
        "id": "c60-awj1Py6u",
        "outputId": "1063c39e-f596-4026-f6d2-ab687ce74dfd"
      },
      "execution_count": null,
      "outputs": [
        {
          "output_type": "error",
          "ename": "TypeError",
          "evalue": "add() missing 1 required positional argument: 'b'",
          "traceback": [
            "\u001b[0;31m---------------------------------------------------------------------------\u001b[0m",
            "\u001b[0;31mTypeError\u001b[0m                                 Traceback (most recent call last)",
            "\u001b[0;32m<ipython-input-52-4c015eca70a5>\u001b[0m in \u001b[0;36m<cell line: 1>\u001b[0;34m()\u001b[0m\n\u001b[0;32m----> 1\u001b[0;31m \u001b[0madd\u001b[0m\u001b[0;34m(\u001b[0m\u001b[0;36m3\u001b[0m\u001b[0;34m)\u001b[0m\u001b[0;34m\u001b[0m\u001b[0;34m\u001b[0m\u001b[0m\n\u001b[0m",
            "\u001b[0;31mTypeError\u001b[0m: add() missing 1 required positional argument: 'b'"
          ]
        }
      ]
    },
    {
      "cell_type": "code",
      "source": [
        "def add(*a):\n",
        "  return a"
      ],
      "metadata": {
        "id": "pO4s4dEAP2pe"
      },
      "execution_count": null,
      "outputs": []
    },
    {
      "cell_type": "code",
      "source": [
        "add(9,8,7,6,8,0,12)"
      ],
      "metadata": {
        "colab": {
          "base_uri": "https://localhost:8080/"
        },
        "id": "iMhTV-UfQ3cI",
        "outputId": "37c54c6e-109d-4ed7-d380-30043a590898"
      },
      "execution_count": null,
      "outputs": [
        {
          "output_type": "execute_result",
          "data": {
            "text/plain": [
              "(9, 8, 7, 6, 8, 0, 12)"
            ]
          },
          "metadata": {},
          "execution_count": 54
        }
      ]
    },
    {
      "cell_type": "code",
      "source": [
        "def add(**a):\n",
        "  return a"
      ],
      "metadata": {
        "id": "V3U4VeGsQ8nS"
      },
      "execution_count": null,
      "outputs": []
    },
    {
      "cell_type": "code",
      "source": [
        "add(a=5,b=6,c=8)"
      ],
      "metadata": {
        "colab": {
          "base_uri": "https://localhost:8080/"
        },
        "id": "QOoPNhwhRSjt",
        "outputId": "03945d95-1c13-4729-f134-b7940e22eebd"
      },
      "execution_count": null,
      "outputs": [
        {
          "output_type": "execute_result",
          "data": {
            "text/plain": [
              "{'a': 5, 'b': 6, 'c': 8}"
            ]
          },
          "metadata": {},
          "execution_count": 56
        }
      ]
    },
    {
      "cell_type": "markdown",
      "source": [
        "create a function right angal triangale"
      ],
      "metadata": {
        "id": "5LiifyiMTJjP"
      }
    },
    {
      "cell_type": "code",
      "source": [
        "def rightangletriangle(n):\n",
        "  for i in range(1,n+1):\n",
        "    print(\"*\"*i)"
      ],
      "metadata": {
        "id": "C7B03rR_ReHG"
      },
      "execution_count": null,
      "outputs": []
    },
    {
      "cell_type": "code",
      "source": [
        "rightangletriangle(5)"
      ],
      "metadata": {
        "colab": {
          "base_uri": "https://localhost:8080/"
        },
        "id": "N8kQCnOuT9Fk",
        "outputId": "949eae3c-9aa2-420f-de6a-1250ec0c0fcc"
      },
      "execution_count": null,
      "outputs": [
        {
          "output_type": "stream",
          "name": "stdout",
          "text": [
            "*\n",
            "**\n",
            "***\n",
            "****\n",
            "*****\n"
          ]
        }
      ]
    },
    {
      "cell_type": "code",
      "source": [
        "def greet (name,greeting=\"hello,prashu,goodmorning\"):\n",
        "  print(f\"{greeting},{name}\")"
      ],
      "metadata": {
        "id": "tZyd-9dPeKuI"
      },
      "execution_count": null,
      "outputs": []
    },
    {
      "cell_type": "code",
      "source": [
        "print(greet(\"prashu\"))"
      ],
      "metadata": {
        "colab": {
          "base_uri": "https://localhost:8080/"
        },
        "id": "RJnXpduYg_et",
        "outputId": "a812b808-6098-4bfc-d423-e7645c4ca9cb"
      },
      "execution_count": null,
      "outputs": [
        {
          "output_type": "stream",
          "name": "stdout",
          "text": [
            "hello,prashu,goodmorning,prashu\n",
            "None\n"
          ]
        }
      ]
    },
    {
      "cell_type": "code",
      "source": [
        "def add(a,b):\n",
        " print (f\" addition:{a+b}\")"
      ],
      "metadata": {
        "id": "ULLXPGiChG8X"
      },
      "execution_count": null,
      "outputs": []
    },
    {
      "cell_type": "code",
      "source": [
        "add(a=10,b=6)"
      ],
      "metadata": {
        "colab": {
          "base_uri": "https://localhost:8080/"
        },
        "id": "ZD5WgRV4iCxA",
        "outputId": "afde6788-8b04-407e-973d-c9ec25c540b5"
      },
      "execution_count": null,
      "outputs": [
        {
          "output_type": "stream",
          "name": "stdout",
          "text": [
            " addition:16\n"
          ]
        }
      ]
    },
    {
      "cell_type": "code",
      "source": [
        "list=[1,2,3,4,5]"
      ],
      "metadata": {
        "id": "gOU-U2kDiTNY"
      },
      "execution_count": null,
      "outputs": []
    },
    {
      "cell_type": "code",
      "source": [
        "my_iter=iter(list)"
      ],
      "metadata": {
        "id": "oAWroMOflKIT"
      },
      "execution_count": null,
      "outputs": []
    },
    {
      "cell_type": "code",
      "source": [
        "print(next(my_iter))"
      ],
      "metadata": {
        "colab": {
          "base_uri": "https://localhost:8080/"
        },
        "id": "Ajb1ckUllQbM",
        "outputId": "8465a8cb-c6ee-4ca2-858f-91b3753b88ef"
      },
      "execution_count": null,
      "outputs": [
        {
          "output_type": "stream",
          "name": "stdout",
          "text": [
            "1\n"
          ]
        }
      ]
    },
    {
      "cell_type": "code",
      "source": [
        "print(next(my_iter))"
      ],
      "metadata": {
        "colab": {
          "base_uri": "https://localhost:8080/"
        },
        "id": "r5IBRJAdlTpx",
        "outputId": "d4c02541-bdfb-4db1-c62a-b1600711d372"
      },
      "execution_count": null,
      "outputs": [
        {
          "output_type": "stream",
          "name": "stdout",
          "text": [
            "2\n"
          ]
        }
      ]
    },
    {
      "cell_type": "code",
      "source": [
        "print(next(my_iter))"
      ],
      "metadata": {
        "colab": {
          "base_uri": "https://localhost:8080/"
        },
        "id": "kbKIwFAhlVzm",
        "outputId": "597a68b8-7607-4977-c2c5-1c2e5a8c9c6f"
      },
      "execution_count": null,
      "outputs": [
        {
          "output_type": "stream",
          "name": "stdout",
          "text": [
            "3\n"
          ]
        }
      ]
    },
    {
      "cell_type": "code",
      "source": [
        "print(next(my_iter))"
      ],
      "metadata": {
        "colab": {
          "base_uri": "https://localhost:8080/"
        },
        "id": "BR-AURzwlYOS",
        "outputId": "5de4f0f1-4501-44da-8161-84c76bd5344c"
      },
      "execution_count": null,
      "outputs": [
        {
          "output_type": "stream",
          "name": "stdout",
          "text": [
            "4\n"
          ]
        }
      ]
    },
    {
      "cell_type": "code",
      "source": [
        "print(next(my_iter))"
      ],
      "metadata": {
        "colab": {
          "base_uri": "https://localhost:8080/"
        },
        "id": "5kmgW0HnlZBI",
        "outputId": "675ea992-2130-4ea9-fb79-77893132088b"
      },
      "execution_count": null,
      "outputs": [
        {
          "output_type": "stream",
          "name": "stdout",
          "text": [
            "5\n"
          ]
        }
      ]
    },
    {
      "cell_type": "code",
      "source": [
        "def sqr(x):\n",
        "  return x**2"
      ],
      "metadata": {
        "id": "sIjhpy7jlZyA"
      },
      "execution_count": null,
      "outputs": []
    },
    {
      "cell_type": "code",
      "source": [
        "sqr(3)"
      ],
      "metadata": {
        "colab": {
          "base_uri": "https://localhost:8080/"
        },
        "id": "DbncGEb_mE-e",
        "outputId": "838ccb52-a3ec-40ed-ae0c-29fc8f70f346"
      },
      "execution_count": null,
      "outputs": [
        {
          "output_type": "execute_result",
          "data": {
            "text/plain": [
              "9"
            ]
          },
          "metadata": {},
          "execution_count": 110
        }
      ]
    },
    {
      "cell_type": "markdown",
      "source": [
        "## lambda function"
      ],
      "metadata": {
        "id": "jfn_kT5wn8FU"
      }
    },
    {
      "cell_type": "code",
      "source": [
        "y = lambda x:x**2"
      ],
      "metadata": {
        "id": "5K1VIbiPmGv-"
      },
      "execution_count": null,
      "outputs": []
    },
    {
      "cell_type": "code",
      "source": [
        "y(3)"
      ],
      "metadata": {
        "colab": {
          "base_uri": "https://localhost:8080/"
        },
        "id": "qGaqkRfKmJrO",
        "outputId": "361cabaf-bcba-411e-d82c-0c0189cf88c6"
      },
      "execution_count": null,
      "outputs": [
        {
          "output_type": "execute_result",
          "data": {
            "text/plain": [
              "9"
            ]
          },
          "metadata": {},
          "execution_count": 112
        }
      ]
    },
    {
      "cell_type": "code",
      "source": [
        "x = lambda a,b :a+b"
      ],
      "metadata": {
        "id": "ncBlzFUrmLLv"
      },
      "execution_count": null,
      "outputs": []
    },
    {
      "cell_type": "code",
      "source": [
        "x(2,3)"
      ],
      "metadata": {
        "colab": {
          "base_uri": "https://localhost:8080/"
        },
        "id": "6_anBzfTmVew",
        "outputId": "0cae7d1b-7328-4d27-ad0e-10fbccbeceeb"
      },
      "execution_count": null,
      "outputs": [
        {
          "output_type": "execute_result",
          "data": {
            "text/plain": [
              "5"
            ]
          },
          "metadata": {},
          "execution_count": 114
        }
      ]
    },
    {
      "cell_type": "code",
      "source": [
        "def add(a,b):\n",
        "  return a+b"
      ],
      "metadata": {
        "id": "2kOX_-PUmXH5"
      },
      "execution_count": null,
      "outputs": []
    },
    {
      "cell_type": "code",
      "source": [
        "add(2,3)"
      ],
      "metadata": {
        "colab": {
          "base_uri": "https://localhost:8080/"
        },
        "id": "qhowLkqKmaUp",
        "outputId": "ebedbc22-d6eb-4b1d-8807-b7c842c77da9"
      },
      "execution_count": null,
      "outputs": [
        {
          "output_type": "execute_result",
          "data": {
            "text/plain": [
              "5"
            ]
          },
          "metadata": {},
          "execution_count": 116
        }
      ]
    },
    {
      "cell_type": "markdown",
      "source": [
        "practical use case of lambda ?"
      ],
      "metadata": {
        "id": "WqHSSY2zms8U"
      }
    },
    {
      "cell_type": "markdown",
      "source": [
        "what is d/w lambda function and def ?"
      ],
      "metadata": {
        "id": "IUSLUCium6AA"
      }
    },
    {
      "cell_type": "code",
      "source": [
        "y = lambda a,b,c :a-b+c"
      ],
      "metadata": {
        "id": "P7j6txlGmdAd"
      },
      "execution_count": null,
      "outputs": []
    },
    {
      "cell_type": "code",
      "source": [
        "y(1,2,3)"
      ],
      "metadata": {
        "colab": {
          "base_uri": "https://localhost:8080/"
        },
        "id": "6bvWLjIsnnEX",
        "outputId": "033d40c5-ddae-4b44-83fb-57b7c7274c10"
      },
      "execution_count": null,
      "outputs": [
        {
          "output_type": "execute_result",
          "data": {
            "text/plain": [
              "2"
            ]
          },
          "metadata": {},
          "execution_count": 120
        }
      ]
    },
    {
      "cell_type": "markdown",
      "source": [
        "## Map function"
      ],
      "metadata": {
        "id": "aOZUCmOEoCLh"
      }
    },
    {
      "cell_type": "code",
      "source": [
        "def sqr(a):\n",
        "  return a**2"
      ],
      "metadata": {
        "id": "yBeOLrqQnpjS"
      },
      "execution_count": null,
      "outputs": []
    },
    {
      "cell_type": "code",
      "source": [
        "t = (2,6,9,3)"
      ],
      "metadata": {
        "id": "6vHrH9kEotyU"
      },
      "execution_count": null,
      "outputs": []
    },
    {
      "cell_type": "code",
      "source": [
        "list(map(sqr,t))"
      ],
      "metadata": {
        "id": "fIuoGxycozPE"
      },
      "execution_count": null,
      "outputs": []
    },
    {
      "cell_type": "code",
      "source": [
        "y=lambda x:x**3"
      ],
      "metadata": {
        "id": "V_50ZjVDo3RI"
      },
      "execution_count": 5,
      "outputs": []
    },
    {
      "cell_type": "code",
      "source": [
        "l = [5,12,7,6,9]"
      ],
      "metadata": {
        "id": "77GDZ9tXsJxq"
      },
      "execution_count": 6,
      "outputs": []
    },
    {
      "cell_type": "code",
      "source": [
        "list(map(y,l))"
      ],
      "metadata": {
        "colab": {
          "base_uri": "https://localhost:8080/"
        },
        "id": "aErbkWWmJdc7",
        "outputId": "0cc17c2e-3a7f-41c0-e2f7-684a974e39ff"
      },
      "execution_count": 7,
      "outputs": [
        {
          "output_type": "execute_result",
          "data": {
            "text/plain": [
              "[125, 1728, 343, 216, 729]"
            ]
          },
          "metadata": {},
          "execution_count": 7
        }
      ]
    },
    {
      "cell_type": "code",
      "source": [
        "def is_even(num):\n",
        "  return num%2==0\n",
        "\n"
      ],
      "metadata": {
        "id": "qi_Y5ixLJeSu"
      },
      "execution_count": 8,
      "outputs": []
    },
    {
      "cell_type": "code",
      "source": [
        "l=[23,67,89,100,34,29,45]"
      ],
      "metadata": {
        "id": "bWD3_BCuJrkT"
      },
      "execution_count": 9,
      "outputs": []
    },
    {
      "cell_type": "code",
      "source": [
        "list (filter(is_even,l))"
      ],
      "metadata": {
        "colab": {
          "base_uri": "https://localhost:8080/"
        },
        "id": "ImJ_3DtqJvAr",
        "outputId": "cbd7c159-60c0-4429-9b67-e76b4c2a8edc"
      },
      "execution_count": 10,
      "outputs": [
        {
          "output_type": "execute_result",
          "data": {
            "text/plain": [
              "[100, 34]"
            ]
          },
          "metadata": {},
          "execution_count": 10
        }
      ]
    },
    {
      "cell_type": "code",
      "source": [
        "def is_odd(num):\n",
        "  return  num%2!=0"
      ],
      "metadata": {
        "id": "qBXbknI7J1O8"
      },
      "execution_count": 11,
      "outputs": []
    },
    {
      "cell_type": "code",
      "source": [
        "l=[23,67,89,100,34,29,45]"
      ],
      "metadata": {
        "id": "6u9Qz6UtJ-dG"
      },
      "execution_count": 12,
      "outputs": []
    },
    {
      "cell_type": "code",
      "source": [
        "list (filter(is_odd,l))"
      ],
      "metadata": {
        "colab": {
          "base_uri": "https://localhost:8080/"
        },
        "id": "CJoIthqCKAi1",
        "outputId": "363a57e0-049a-4b64-9ba3-9ca31ea88f6a"
      },
      "execution_count": 14,
      "outputs": [
        {
          "output_type": "execute_result",
          "data": {
            "text/plain": [
              "[23, 67, 89, 29, 45]"
            ]
          },
          "metadata": {},
          "execution_count": 14
        }
      ]
    },
    {
      "cell_type": "code",
      "source": [],
      "metadata": {
        "id": "eMZsBOAcKFV6"
      },
      "execution_count": null,
      "outputs": []
    }
  ]
}